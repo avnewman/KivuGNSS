{
 "cells": [
  {
   "cell_type": "code",
   "execution_count": 165,
   "metadata": {},
   "outputs": [],
   "source": [
    "# Rwanda-Kivu Rift region\n",
    "# we will start by making a prelim plot to assure that this is the region we want\n",
    "\n",
    "import pygmt\n",
    "import elevation\n",
    "import os\n",
    "import pandas as pd\n",
    "\n",
    "#xmin=28.8; xmax=30; ymin=-2.7;ymax=-1.2\n",
    "xmin=29; xmax=29.5; ymin=-2.1;ymax=-1.5\n",
    "region=[xmin,xmax,ymin,ymax]\n",
    "proj=\"M0/0/15c\"\n",
    "\n",
    "libdir=os.path.join(os.getcwd(),'mapdata')\n",
    "mapcpt=os.path.join(libdir,'map_gray.cpt')\n",
    "DEM=os.path.join(libdir,'Rwanda_DEM.tif') \n",
    "VELS=os.path.join(os.getcwd(),'TS_rates.txt')\n",
    "Plate=os.path.join(os.getcwd(),'SO-NNR_itrf2014.txt') # Somalian Plate wrt NNR in ITRF2014 using UNAVCO PMC\n",
    "\n",
    "vels=pd.read_csv(VELS, delim_whitespace=True)\n",
    "plate=pd.read_csv(Plate,delim_whitespace=True)\n",
    "# remove plate motion\n",
    "vels[\"NPvel\"]=vels[\"Nvel\"]-plate[\"Nvel\"]\n",
    "vels[\"EPvel\"]=vels[\"Evel\"]-plate[\"Evel\"]\n",
    "\n",
    "vels[\"ENcor\"]=0-vels[\"NEcor\"]\n",
    "data=vels[[\"Long\",\"Lat\",\"EPvel\",\"NPvel\",\"Eerr\",\"Nerr\",\"ENcor\",\"Uvel\",\"STAT\"]] # EP NP are plate removed\n",
    "# add legend velocity\n",
    "vslat = float(-2.03)\n",
    "vslong = float(29.35)\n",
    "velscale = pd.Series([vslong,vslat, 10, 0, 5, 2, 0.4, 10, \" \"],index=data.columns)\n",
    "vdf=velscale.to_frame().T\n",
    "# Need to reset floats to all be floats again...pita\n",
    "vdf[[\"Long\",\"Lat\",\"EPvel\",\"NPvel\",\"Eerr\",\"Nerr\",\"ENcor\",\"Uvel\"]] = vdf[[\"Long\",\"Lat\",\"EPvel\",\"NPvel\",\"Eerr\",\"Nerr\",\"ENcor\",\"Uvel\"]].apply(pd.to_numeric)\n",
    "data = pd.concat([data,vdf],ignore_index=True)\n",
    "\n",
    "### GET DEM ###\n",
    "# gets proper path declaration independent of OS\n",
    "# this will default to the global 90m resolution --way big enough for us\n",
    "## should define product='SRTM3' = 90m data (3arcsec), otherwise will default to 1arcsec\n",
    "#elevation.clean()\n",
    "#elevation.clip(bounds=(xmin,ymin,xmax,ymax),output=DEM,product='SRTM3')\n",
    "#elevation.clean()  # allows us to rerun get command\n",
    "#print(pygmt.grdinfo(DEM)) # shows useful information about the grid file\n",
    "\n",
    "fig1=pygmt.Figure()\n",
    "pygmt.config(MAP_FRAME_TYPE=\"plain\", # no alternating B&W frame\n",
    "             FORMAT_GEO_MAP='ddd.xx') # decimal degrees\n",
    "\n",
    "#pygmt.makecpt(series=[1000,4000,500],  #create a topo cpt just for this range (500-4500m)\n",
    "#              continuous=True,\n",
    "#              cmap='topo')\n",
    "\n",
    "#fig1.grdimage(DEM,region=region,projection=proj,cmap=mapcpt,shading=True,dpi=300, transparency=60) # Use globe version (all high elev.)\n",
    "DEMgrad = pygmt.grdgradient(grid=DEM, azimuth=[0,90], normalize='e.8')\n",
    "pygmt.makecpt(cmap=\"gray\",series=[-1,0.5,0.01])\n",
    "fig1.grdimage(DEMgrad,region=region,projection=proj,cmap=True,dpi=600, transparency=60) # Use globe version (all high elev.)\n",
    "\n",
    "\n",
    "# remap the national borders as dashed lines\n",
    "fig1.coast(region=region,  # xmin,xmax,ymin,ymax\n",
    "    projection=proj,\n",
    "    frame=['p','WSen','xa0.1', 'ya.1'], \n",
    "    resolution='f', \n",
    "    borders='1/1.2p,150,-.-',\n",
    "    transparency=10,\n",
    "    )\n",
    "\n",
    "# Legend box -- hardwired :( \n",
    "fig1.plot(x=29.25, y=-2.025, \n",
    "          style=\"R14/4/0.25\", \n",
    "          color=\"255/255/235\", \n",
    "          pen=\"2p,black\",\n",
    "         transparency=10,\n",
    "         )\n",
    "\n",
    "pygmt.makecpt(cmap=\"turbo\",  #reverse=True, \n",
    "              continuous=False,\n",
    "            #  series=[vels.Uvel.min(),vels.Uvel.max(),20]\n",
    "              series=[0,60,5]\n",
    "             )\n",
    "\n",
    "fig1.plot(x=data.Long,y=data.Lat,\n",
    "          style='d0.5c', \n",
    "          cmap=True,\n",
    "          pen='0.5,0', \n",
    "          color=data.Uvel,\n",
    "          transparency=0)\n",
    "\n",
    "\n",
    "fig1.velo(data=data,\n",
    "         region=region,\n",
    "         pen=\"0.5p\",\n",
    "         #zvalue='u', # user-defined before STAT name column in data\n",
    "         #cmap=True,\n",
    "         spec=\"e0.2/0.65/10\",\n",
    "         vector=\"0.5c+p1p+e\"\n",
    "         )\n",
    "\n",
    "fig1.colorbar(\n",
    "    #position=\"jBC\", \n",
    "    position=\"JBC+o0c/-1.1c+w11c/0.2c\",\n",
    "    #box=\"+gwhite+p2,black\", # white fill\n",
    "    #frame=['x+lvertical [mm/yr]']\n",
    "    )\n",
    "\n",
    "fig1.text(\n",
    "    text=[\"Vertical velocity [mm/yr]\", \"Horizontal velocity 10 mm/yr (1 @~s@~)\"],\n",
    "    x=[29.25,29.25],\n",
    "    y=[-2.05,vslat]\n",
    "    )\n",
    "fig1.text(text=\"Kivu GNSS Sites\",x=29.05,y=-1.985, justify=\"LB\", font=\"12p,Helvetica-Bold,black\")\n",
    "fig1.text(text=\"Observations are relative to stable Somolian Plate\",x=29.05,y=-2.0, justify=\"LB\", font=\"10p,Helvetica,black\")\n",
    "fig1.text(text=vels.Sdate[0] +\" to \"+vels.Edate[0],x=29.05,y=-2.015, justify=\"LB\", font=\"10p,Helvetica,black\")\n",
    "\n",
    "fig1.basemap(region=region,  # xmin,xmax,ymin,ymax\n",
    "    projection=proj,\n",
    "    map_scale   = '29.40/-1.972/-1.9/10',\n",
    "    )\n",
    "\n",
    "fig1.savefig('TS_rates_SONNR.png',  # types include png,jpg,pdf,bmp,tif,eps,kml\n",
    "            transparent=False, # transp background for png only\n",
    "            crop=True, # removes whitespace around fig\n",
    "            anti_alias=True, # creates smoother plots\n",
    "            show=True, # display externally too\n",
    "            dpi=300 #this is default for png\n",
    "            )"
   ]
  },
  {
   "cell_type": "markdown",
   "metadata": {},
   "source": [
    "### "
   ]
  },
  {
   "cell_type": "code",
   "execution_count": 49,
   "metadata": {},
   "outputs": [
    {
     "data": {
      "text/plain": [
       "dtype('O')"
      ]
     },
     "execution_count": 49,
     "metadata": {},
     "output_type": "execute_result"
    }
   ],
   "source": [
    "velscale.dtypes"
   ]
  },
  {
   "cell_type": "code",
   "execution_count": 136,
   "metadata": {},
   "outputs": [
    {
     "name": "stdout",
     "output_type": "stream",
     "text": [
      "2022-08-07 2022-11-12\n"
     ]
    }
   ],
   "source": [
    "print(vels.Sdate[0],vels.Edate[0])"
   ]
  },
  {
   "cell_type": "code",
   "execution_count": null,
   "metadata": {},
   "outputs": [],
   "source": []
  }
 ],
 "metadata": {
  "kernelspec": {
   "display_name": "Python [conda env:Maps]",
   "language": "python",
   "name": "conda-env-Maps-py"
  },
  "language_info": {
   "codemirror_mode": {
    "name": "ipython",
    "version": 3
   },
   "file_extension": ".py",
   "mimetype": "text/x-python",
   "name": "python",
   "nbconvert_exporter": "python",
   "pygments_lexer": "ipython3",
   "version": "3.9.13"
  }
 },
 "nbformat": 4,
 "nbformat_minor": 4
}
